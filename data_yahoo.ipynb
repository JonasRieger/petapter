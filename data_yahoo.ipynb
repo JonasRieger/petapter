{
 "cells": [
  {
   "cell_type": "code",
   "execution_count": null,
   "id": "a7083be7",
   "metadata": {},
   "outputs": [],
   "source": [
    "import os\n",
    "import pandas as pd\n",
    "from datasets import load_dataset"
   ]
  },
  {
   "cell_type": "code",
   "execution_count": null,
   "id": "e28c8897",
   "metadata": {},
   "outputs": [],
   "source": [
    "dataset = load_dataset(\"yahoo_answers_topics\")"
   ]
  },
  {
   "cell_type": "code",
   "execution_count": null,
   "id": "6523b3ff",
   "metadata": {},
   "outputs": [],
   "source": [
    "test = pd.DataFrame(dataset[\"test\"])\n",
    "test = pd.DataFrame({\"text\": test.question_title+\" \"+test.question_content+\" \"+test.best_answer, \"label\": test.topic})\n",
    "test.to_csv(\"data/test/yahoo/test.csv\", header = False, index = False)"
   ]
  },
  {
   "cell_type": "code",
   "execution_count": null,
   "id": "b6b41841",
   "metadata": {},
   "outputs": [],
   "source": [
    "train = pd.DataFrame(dataset[\"train\"])\n",
    "train = pd.DataFrame({\"text\": train.question_title+\" \"+train.question_content+\" \"+train.best_answer, \"label\": train.topic})"
   ]
  },
  {
   "cell_type": "code",
   "execution_count": null,
   "id": "a2c56f3d",
   "metadata": {},
   "outputs": [],
   "source": [
    "for s in range(1,6):\n",
    "    os.makedirs(f\"data/train/yahoo/10/{s}\")\n",
    "    os.makedirs(f\"data/train/yahoo/100/{s}\")\n",
    "    train_shot = pd.DataFrame(columns = train.columns)\n",
    "    for label in train.label.unique():\n",
    "        idx = train.label == label\n",
    "        train_shot = train_shot.append(train[idx].sample(n = 1))\n",
    "    train = train.drop(train_shot.index)\n",
    "    train_shot.to_csv(f\"data/train/yahoo/10/{s}/train.csv\", header = False, index = False)\n",
    "    for label in train.label.unique():\n",
    "        idx = train.label == label\n",
    "        train_add = train[idx].sample(n = 9)\n",
    "        train_shot = train_shot.append(train_add)\n",
    "        train = train.drop(train_add.index)\n",
    "    train_shot.to_csv(f\"data/train/yahoo/100/{s}/train.csv\", header = False, index = False)"
   ]
  }
 ],
 "metadata": {
  "kernelspec": {
   "display_name": "Python 3",
   "language": "python",
   "name": "python3"
  },
  "language_info": {
   "codemirror_mode": {
    "name": "ipython",
    "version": 3
   },
   "file_extension": ".py",
   "mimetype": "text/x-python",
   "name": "python",
   "nbconvert_exporter": "python",
   "pygments_lexer": "ipython3",
   "version": "3.8.8"
  }
 },
 "nbformat": 4,
 "nbformat_minor": 5
}
