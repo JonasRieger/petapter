{
 "cells": [
  {
   "cell_type": "code",
   "execution_count": 10,
   "id": "fc81b664",
   "metadata": {},
   "outputs": [],
   "source": [
    "from pathlib import Path\n",
    "import pandas as pd\n",
    "from collections import Counter\n",
    "from datasets import load_dataset, get_dataset_config_names\n",
    "import pandas as pd\n",
    "import json\n",
    "import os"
   ]
  },
  {
   "cell_type": "code",
   "execution_count": 2,
   "id": "07d8a392",
   "metadata": {},
   "outputs": [],
   "source": [
    "for task in get_dataset_config_names(\"ought/raft\"):\n",
    "    os.makedirs(f\"raft/data/{task}\")"
   ]
  },
  {
   "cell_type": "markdown",
   "id": "8e623f2c",
   "metadata": {},
   "source": [
    "# ade_corpus_v2"
   ]
  },
  {
   "cell_type": "code",
   "execution_count": 3,
   "id": "1ec4e476",
   "metadata": {},
   "outputs": [
    {
     "name": "stderr",
     "output_type": "stream",
     "text": [
      "Found cached dataset raft (C:/Users/riege/.cache/huggingface/datasets/ought___raft/ade_corpus_v2/1.1.0/79c4de1312c1e3730043f7db07179c914f48403101f7124e2fe336f6f54d9f84)\n"
     ]
    },
    {
     "data": {
      "application/vnd.jupyter.widget-view+json": {
       "model_id": "50e80c550b984554bd0200871bb5fb97",
       "version_major": 2,
       "version_minor": 0
      },
      "text/plain": [
       "  0%|          | 0/2 [00:00<?, ?it/s]"
      ]
     },
     "metadata": {},
     "output_type": "display_data"
    }
   ],
   "source": [
    "task = \"ade_corpus_v2\"\n",
    "raft_subset = load_dataset(\"ought/raft\", task)\n",
    "for both in [\"train\", \"test\"]:\n",
    "    dat = pd.DataFrame(raft_subset[both])\n",
    "    dat = pd.DataFrame({\"text\": dat.Sentence, \"label\": raft_subset[both].features[\"Label\"].int2str(dat.Label)})\n",
    "    dat.to_csv(f\"raft/data/{task}/{both}.csv\", header = False, index = False)"
   ]
  },
  {
   "cell_type": "markdown",
   "id": "c9df9f17",
   "metadata": {},
   "source": [
    "# banking_77"
   ]
  },
  {
   "cell_type": "code",
   "execution_count": 2,
   "id": "1b5ce45b",
   "metadata": {},
   "outputs": [
    {
     "name": "stderr",
     "output_type": "stream",
     "text": [
      "Found cached dataset raft (C:/Users/riege/.cache/huggingface/datasets/ought___raft/banking_77/1.1.0/79c4de1312c1e3730043f7db07179c914f48403101f7124e2fe336f6f54d9f84)\n"
     ]
    },
    {
     "data": {
      "application/vnd.jupyter.widget-view+json": {
       "model_id": "67c53520653044d48941f37fd8878661",
       "version_major": 2,
       "version_minor": 0
      },
      "text/plain": [
       "  0%|          | 0/2 [00:00<?, ?it/s]"
      ]
     },
     "metadata": {},
     "output_type": "display_data"
    }
   ],
   "source": [
    "task = \"banking_77\"\n",
    "raft_subset = load_dataset(\"ought/raft\", task)\n",
    "# augmentation here, because truncation is not a problem: longest query 422 characters long -> around 130 tokens max."
   ]
  },
  {
   "cell_type": "code",
   "execution_count": null,
   "id": "99fd3d4c",
   "metadata": {},
   "outputs": [],
   "source": [
    "with open(f'raft/data/{task}/labels.txt', 'w') as fp:\n",
    "    for item in raft_subset[\"train\"].features[\"Label\"].names[1:]:\n",
    "        fp.write(\"%s\\n\" % item)"
   ]
  },
  {
   "cell_type": "code",
   "execution_count": 5,
   "id": "5bd28fa2",
   "metadata": {},
   "outputs": [],
   "source": [
    "dat = pd.DataFrame(raft_subset[\"train\"])\n",
    "dat = pd.DataFrame({\"text\": dat.Query, \"label\": raft_subset[\"train\"].features[\"Label\"].int2str(dat.Label)})\n",
    "dat['indicator'] = \"Yes\"\n",
    "\n",
    "df1 = pd.DataFrame(dat.text)\n",
    "df2 = pd.DataFrame({\"label\": raft_subset[\"train\"].features[\"Label\"].names[1:]})\n",
    "df1['indicator'] = \"No\"\n",
    "df2['indicator'] = \"No\"\n",
    "dat2 = pd.merge(df1, df2, on='indicator', how='outer')\n",
    "\n",
    "dat = pd.concat([dat, dat2]).drop_duplicates(subset=[\"text\", \"label\"])\n",
    "dat = pd.DataFrame({\"text\": dat.text+\" </s> Question: Is '\"+dat.label+\"'\", \"label\": dat.indicator})\n",
    "dat.to_csv(f\"raft/data/{task}/train.csv\", header = False, index = False)"
   ]
  },
  {
   "cell_type": "code",
   "execution_count": 6,
   "id": "f1117fa2",
   "metadata": {},
   "outputs": [],
   "source": [
    "dat = pd.DataFrame(raft_subset[\"test\"])\n",
    "dat = pd.DataFrame({\"text\": dat.Query, \"label\": raft_subset[\"test\"].features[\"Label\"].int2str(dat.Label)})\n",
    "\n",
    "df1 = pd.DataFrame(dat.text)\n",
    "df2 = pd.DataFrame({\"label\": raft_subset[\"test\"].features[\"Label\"].names[1:]})\n",
    "df1['indicator'] = \"Unlabeled\"\n",
    "df2['indicator'] = \"Unlabeled\"\n",
    "dat2 = pd.merge(df1, df2, on='indicator', how='outer')\n",
    "\n",
    "dat = pd.DataFrame({\"text\": dat2.text+\" </s> Question: Is '\"+dat2.label+\"'\", \"label\": dat2.indicator})\n",
    "dat.to_csv(f\"raft/data/{task}/test.csv\", header = False, index = False)"
   ]
  },
  {
   "cell_type": "markdown",
   "id": "5da36566",
   "metadata": {},
   "source": [
    "# neurips_impact_statement_risks"
   ]
  },
  {
   "cell_type": "code",
   "execution_count": 7,
   "id": "a8283caf",
   "metadata": {},
   "outputs": [
    {
     "name": "stderr",
     "output_type": "stream",
     "text": [
      "Found cached dataset raft (C:/Users/riege/.cache/huggingface/datasets/ought___raft/neurips_impact_statement_risks/1.1.0/79c4de1312c1e3730043f7db07179c914f48403101f7124e2fe336f6f54d9f84)\n"
     ]
    },
    {
     "data": {
      "application/vnd.jupyter.widget-view+json": {
       "model_id": "c41dbdf3e8b04f6089fe758391ac8265",
       "version_major": 2,
       "version_minor": 0
      },
      "text/plain": [
       "  0%|          | 0/2 [00:00<?, ?it/s]"
      ]
     },
     "metadata": {},
     "output_type": "display_data"
    }
   ],
   "source": [
    "task = \"neurips_impact_statement_risks\"\n",
    "raft_subset = load_dataset(\"ought/raft\", task)\n",
    "for both in [\"train\", \"test\"]:\n",
    "    dat = pd.DataFrame(raft_subset[both])\n",
    "    dat = pd.DataFrame({\"text\": \"Title: \"+dat[\"Paper title\"]+\" </s> Statement: \"+dat[\"Impact statement\"],\n",
    "                        \"label\": raft_subset[both].features[\"Label\"].int2str(dat.Label)})\n",
    "    dat.to_csv(f\"raft/data/{task}/{both}.csv\", header = False, index = False)"
   ]
  },
  {
   "cell_type": "markdown",
   "id": "ef7f4d97",
   "metadata": {},
   "source": [
    "# one_stop_english"
   ]
  },
  {
   "cell_type": "code",
   "execution_count": 8,
   "id": "6d54bc04",
   "metadata": {},
   "outputs": [
    {
     "name": "stderr",
     "output_type": "stream",
     "text": [
      "Found cached dataset raft (C:/Users/riege/.cache/huggingface/datasets/ought___raft/one_stop_english/1.1.0/79c4de1312c1e3730043f7db07179c914f48403101f7124e2fe336f6f54d9f84)\n"
     ]
    },
    {
     "data": {
      "application/vnd.jupyter.widget-view+json": {
       "model_id": "cfdd5aecc3b848208e7c7e100cc0f6e5",
       "version_major": 2,
       "version_minor": 0
      },
      "text/plain": [
       "  0%|          | 0/2 [00:00<?, ?it/s]"
      ]
     },
     "metadata": {},
     "output_type": "display_data"
    }
   ],
   "source": [
    "task = \"one_stop_english\"\n",
    "raft_subset = load_dataset(\"ought/raft\", task)\n",
    "for both in [\"train\", \"test\"]:\n",
    "    dat = pd.DataFrame(raft_subset[both])\n",
    "    dat = pd.DataFrame({\"text\": dat.Article, \"label\": raft_subset[both].features[\"Label\"].int2str(dat.Label)})\n",
    "    dat.to_csv(f\"raft/data/{task}/{both}.csv\", header = False, index = False)"
   ]
  },
  {
   "cell_type": "markdown",
   "id": "4e407999",
   "metadata": {},
   "source": [
    "# overruling"
   ]
  },
  {
   "cell_type": "code",
   "execution_count": 9,
   "id": "5f81201e",
   "metadata": {},
   "outputs": [
    {
     "name": "stderr",
     "output_type": "stream",
     "text": [
      "Found cached dataset raft (C:/Users/riege/.cache/huggingface/datasets/ought___raft/overruling/1.1.0/79c4de1312c1e3730043f7db07179c914f48403101f7124e2fe336f6f54d9f84)\n"
     ]
    },
    {
     "data": {
      "application/vnd.jupyter.widget-view+json": {
       "model_id": "712cc8875a154c8f8aa00dfd0404e114",
       "version_major": 2,
       "version_minor": 0
      },
      "text/plain": [
       "  0%|          | 0/2 [00:00<?, ?it/s]"
      ]
     },
     "metadata": {},
     "output_type": "display_data"
    }
   ],
   "source": [
    "task = \"overruling\"\n",
    "raft_subset = load_dataset(\"ought/raft\", task)\n",
    "for both in [\"train\", \"test\"]:\n",
    "    dat = pd.DataFrame(raft_subset[both])\n",
    "    dat = pd.DataFrame({\"text\": dat.Sentence, \"label\": raft_subset[both].features[\"Label\"].int2str(dat.Label)})\n",
    "    dat.to_csv(f\"raft/data/{task}/{both}.csv\", header = False, index = False)"
   ]
  },
  {
   "cell_type": "markdown",
   "id": "f1b1f261",
   "metadata": {},
   "source": [
    "# semiconductor_org_types"
   ]
  },
  {
   "cell_type": "code",
   "execution_count": 10,
   "id": "f70efcec",
   "metadata": {},
   "outputs": [
    {
     "name": "stderr",
     "output_type": "stream",
     "text": [
      "Found cached dataset raft (C:/Users/riege/.cache/huggingface/datasets/ought___raft/semiconductor_org_types/1.1.0/79c4de1312c1e3730043f7db07179c914f48403101f7124e2fe336f6f54d9f84)\n"
     ]
    },
    {
     "data": {
      "application/vnd.jupyter.widget-view+json": {
       "model_id": "ad20db22d5534a9090e0e9ec07fe55ee",
       "version_major": 2,
       "version_minor": 0
      },
      "text/plain": [
       "  0%|          | 0/2 [00:00<?, ?it/s]"
      ]
     },
     "metadata": {},
     "output_type": "display_data"
    }
   ],
   "source": [
    "task = \"semiconductor_org_types\"\n",
    "raft_subset = load_dataset(\"ought/raft\", task)\n",
    "for both in [\"train\", \"test\"]:\n",
    "    dat = pd.DataFrame(raft_subset[both])\n",
    "    dat = pd.DataFrame({\"text\": \"Title: \"+dat[\"Paper title\"]+\" </s> Organization name: \"+dat[\"Organization name\"],\n",
    "                        \"label\": raft_subset[both].features[\"Label\"].int2str(dat.Label)})\n",
    "    dat.to_csv(f\"raft/data/{task}/{both}.csv\", header = False, index = False)"
   ]
  },
  {
   "cell_type": "markdown",
   "id": "53dda9d5",
   "metadata": {},
   "source": [
    "# systematic_review_inclusion"
   ]
  },
  {
   "cell_type": "code",
   "execution_count": 11,
   "id": "a2c38c3f",
   "metadata": {},
   "outputs": [
    {
     "name": "stderr",
     "output_type": "stream",
     "text": [
      "Found cached dataset raft (C:/Users/riege/.cache/huggingface/datasets/ought___raft/systematic_review_inclusion/1.1.0/79c4de1312c1e3730043f7db07179c914f48403101f7124e2fe336f6f54d9f84)\n"
     ]
    },
    {
     "data": {
      "application/vnd.jupyter.widget-view+json": {
       "model_id": "ae707272d28742a89b02ada6d1293baa",
       "version_major": 2,
       "version_minor": 0
      },
      "text/plain": [
       "  0%|          | 0/2 [00:00<?, ?it/s]"
      ]
     },
     "metadata": {},
     "output_type": "display_data"
    }
   ],
   "source": [
    "task = \"systematic_review_inclusion\"\n",
    "raft_subset = load_dataset(\"ought/raft\", task)\n",
    "for both in [\"train\", \"test\"]:\n",
    "    dat = pd.DataFrame(raft_subset[both])\n",
    "    dat = pd.DataFrame({\"text\": \"Journal: \"+dat.Journal+\" </s> Title: \"+dat.Title+\" </s> Abstract: \"+dat.Abstract,\n",
    "                        \"label\": raft_subset[both].features[\"Label\"].int2str(dat.Label)})\n",
    "    dat.to_csv(f\"raft/data/{task}/{both}.csv\", header = False, index = False)"
   ]
  },
  {
   "cell_type": "markdown",
   "id": "f5319f7a",
   "metadata": {},
   "source": [
    "# tai_safety_research"
   ]
  },
  {
   "cell_type": "code",
   "execution_count": 12,
   "id": "a1027ee5",
   "metadata": {},
   "outputs": [
    {
     "name": "stderr",
     "output_type": "stream",
     "text": [
      "Found cached dataset raft (C:/Users/riege/.cache/huggingface/datasets/ought___raft/tai_safety_research/1.1.0/79c4de1312c1e3730043f7db07179c914f48403101f7124e2fe336f6f54d9f84)\n"
     ]
    },
    {
     "data": {
      "application/vnd.jupyter.widget-view+json": {
       "model_id": "5fe736c36c174aa098611aa6b02290d6",
       "version_major": 2,
       "version_minor": 0
      },
      "text/plain": [
       "  0%|          | 0/2 [00:00<?, ?it/s]"
      ]
     },
     "metadata": {},
     "output_type": "display_data"
    }
   ],
   "source": [
    "task = \"tai_safety_research\"\n",
    "raft_subset = load_dataset(\"ought/raft\", task)\n",
    "for both in [\"train\", \"test\"]:\n",
    "    dat = pd.DataFrame(raft_subset[both])\n",
    "    dat = pd.DataFrame({\"text\": \"Journal: \"+dat[\"Publication Title\"]+\" </s> Title: \"+dat.Title+\" </s> Abstract: \"+dat[\"Abstract Note\"],\n",
    "                        \"label\": raft_subset[both].features[\"Label\"].int2str(dat.Label)})\n",
    "    dat.to_csv(f\"raft/data/{task}/{both}.csv\", header = False, index = False)"
   ]
  },
  {
   "cell_type": "markdown",
   "id": "5c5a74b8",
   "metadata": {},
   "source": [
    "# terms_of_service"
   ]
  },
  {
   "cell_type": "code",
   "execution_count": 13,
   "id": "58f862ff",
   "metadata": {},
   "outputs": [
    {
     "name": "stderr",
     "output_type": "stream",
     "text": [
      "Found cached dataset raft (C:/Users/riege/.cache/huggingface/datasets/ought___raft/terms_of_service/1.1.0/79c4de1312c1e3730043f7db07179c914f48403101f7124e2fe336f6f54d9f84)\n"
     ]
    },
    {
     "data": {
      "application/vnd.jupyter.widget-view+json": {
       "model_id": "abe4d53134c34631a832acd3f3538d90",
       "version_major": 2,
       "version_minor": 0
      },
      "text/plain": [
       "  0%|          | 0/2 [00:00<?, ?it/s]"
      ]
     },
     "metadata": {},
     "output_type": "display_data"
    }
   ],
   "source": [
    "task = \"terms_of_service\"\n",
    "raft_subset = load_dataset(\"ought/raft\", task)\n",
    "for both in [\"train\", \"test\"]:\n",
    "    dat = pd.DataFrame(raft_subset[both])\n",
    "    dat = pd.DataFrame({\"text\": dat.Sentence, \"label\": raft_subset[both].features[\"Label\"].int2str(dat.Label)})\n",
    "    dat.to_csv(f\"raft/data/{task}/{both}.csv\", header = False, index = False)"
   ]
  },
  {
   "cell_type": "markdown",
   "id": "cb500afc",
   "metadata": {},
   "source": [
    "# tweet_eval_hate"
   ]
  },
  {
   "cell_type": "code",
   "execution_count": 14,
   "id": "03d1777c",
   "metadata": {},
   "outputs": [
    {
     "name": "stderr",
     "output_type": "stream",
     "text": [
      "Found cached dataset raft (C:/Users/riege/.cache/huggingface/datasets/ought___raft/tweet_eval_hate/1.1.0/79c4de1312c1e3730043f7db07179c914f48403101f7124e2fe336f6f54d9f84)\n"
     ]
    },
    {
     "data": {
      "application/vnd.jupyter.widget-view+json": {
       "model_id": "b05375a758fd4a9ca1bcfaee1b1f537b",
       "version_major": 2,
       "version_minor": 0
      },
      "text/plain": [
       "  0%|          | 0/2 [00:00<?, ?it/s]"
      ]
     },
     "metadata": {},
     "output_type": "display_data"
    }
   ],
   "source": [
    "task = \"tweet_eval_hate\"\n",
    "raft_subset = load_dataset(\"ought/raft\", task)\n",
    "for both in [\"train\", \"test\"]:\n",
    "    dat = pd.DataFrame(raft_subset[both])\n",
    "    dat = pd.DataFrame({\"text\": dat.Tweet, \"label\": raft_subset[both].features[\"Label\"].int2str(dat.Label)})\n",
    "    dat.to_csv(f\"raft/data/{task}/{both}.csv\", header = False, index = False)"
   ]
  },
  {
   "cell_type": "markdown",
   "id": "ca2fcac3",
   "metadata": {},
   "source": [
    "# twitter_complaints"
   ]
  },
  {
   "cell_type": "code",
   "execution_count": 15,
   "id": "1c25c749",
   "metadata": {},
   "outputs": [
    {
     "name": "stderr",
     "output_type": "stream",
     "text": [
      "Found cached dataset raft (C:/Users/riege/.cache/huggingface/datasets/ought___raft/twitter_complaints/1.1.0/79c4de1312c1e3730043f7db07179c914f48403101f7124e2fe336f6f54d9f84)\n"
     ]
    },
    {
     "data": {
      "application/vnd.jupyter.widget-view+json": {
       "model_id": "efaffb8bcae74999baac6e9d2455648a",
       "version_major": 2,
       "version_minor": 0
      },
      "text/plain": [
       "  0%|          | 0/2 [00:00<?, ?it/s]"
      ]
     },
     "metadata": {},
     "output_type": "display_data"
    }
   ],
   "source": [
    "task = \"twitter_complaints\"\n",
    "raft_subset = load_dataset(\"ought/raft\", task)\n",
    "for both in [\"train\", \"test\"]:\n",
    "    dat = pd.DataFrame(raft_subset[both])\n",
    "    dat = pd.DataFrame({\"text\": dat[\"Tweet text\"], \"label\": raft_subset[both].features[\"Label\"].int2str(dat.Label)})\n",
    "    dat.to_csv(f\"raft/data/{task}/{both}.csv\", header = False, index = False)"
   ]
  }
 ],
 "metadata": {
  "kernelspec": {
   "display_name": "Python 3",
   "language": "python",
   "name": "python3"
  },
  "language_info": {
   "codemirror_mode": {
    "name": "ipython",
    "version": 3
   },
   "file_extension": ".py",
   "mimetype": "text/x-python",
   "name": "python",
   "nbconvert_exporter": "python",
   "pygments_lexer": "ipython3",
   "version": "3.8.8"
  }
 },
 "nbformat": 4,
 "nbformat_minor": 5
}
