{
 "cells": [
  {
   "cell_type": "code",
   "execution_count": null,
   "id": "6d3e961f",
   "metadata": {},
   "outputs": [],
   "source": [
    "import os\n",
    "import pandas as pd\n",
    "import numpy as np\n",
    "import random"
   ]
  },
  {
   "cell_type": "code",
   "execution_count": null,
   "id": "c1341274",
   "metadata": {},
   "outputs": [],
   "source": [
    "np.random.seed(1895)"
   ]
  },
  {
   "cell_type": "code",
   "execution_count": null,
   "id": "c619a3de",
   "metadata": {},
   "outputs": [],
   "source": [
    "stance = pd.read_csv(\"data/raw/ukraine/stanced.csv\")"
   ]
  },
  {
   "cell_type": "code",
   "execution_count": null,
   "id": "df666083",
   "metadata": {},
   "outputs": [],
   "source": [
    "articles_train = random.sample(set(stance.id), 294)\n",
    "idx = stance.id.isin(articles_train)"
   ]
  },
  {
   "cell_type": "code",
   "execution_count": null,
   "id": "13c6621f",
   "metadata": {},
   "outputs": [],
   "source": [
    "stance.context_before = stance.context_before.fillna(\"\")\n",
    "stance.context_after = stance.context_after.fillna(\"\")"
   ]
  },
  {
   "cell_type": "code",
   "execution_count": null,
   "id": "2357c7fd",
   "metadata": {},
   "outputs": [],
   "source": [
    "train = pd.DataFrame({\"text\": stance.target_sentence[idx]+\" </s> \"+\n",
    "                      stance.context_before[idx]+\" </s> \"+stance.context_after[idx],\n",
    "                      \"label\": stance.gold_label[idx]})"
   ]
  },
  {
   "cell_type": "code",
   "execution_count": null,
   "id": "a880238c",
   "metadata": {},
   "outputs": [],
   "source": [
    "test = pd.DataFrame({\"text\": stance.target_sentence[~idx]+\" </s> \"+\n",
    "                     stance.context_before[~idx]+\" </s> \"+stance.context_after[~idx],\n",
    "                     \"label\": stance.gold_label[~idx]})"
   ]
  },
  {
   "cell_type": "code",
   "execution_count": null,
   "id": "bb8a2565",
   "metadata": {},
   "outputs": [],
   "source": [
    "train.to_csv(\"data/raw/ukraine/stanced_train.csv\", header = False, index = False)\n",
    "test.to_csv(\"data/raw/ukraine/stanced_test.csv\", header = False, index = False)\n",
    "test.to_csv(\"data/test/ukraine/test.csv\", header = False, index = False)"
   ]
  },
  {
   "cell_type": "markdown",
   "id": "5b677d13",
   "metadata": {},
   "source": [
    "# First Setting (\"equal\")\n",
    "### sample 5 subsamples with n = 10, 100, 250 and equal inclusion probability for each label"
   ]
  },
  {
   "cell_type": "code",
   "execution_count": null,
   "id": "12d40c0c",
   "metadata": {},
   "outputs": [],
   "source": [
    "for s in range(1,6):\n",
    "    os.makedirs(f\"data/train/ukraine/equal/10/{s}\")\n",
    "    os.makedirs(f\"data/train/ukraine/equal/100/{s}\")\n",
    "    os.makedirs(f\"data/train/ukraine/equal/250/{s}\")\n",
    "    train = pd.read_csv(\"data/raw/ukraine/stanced_train.csv\", header=None, names=(\"text\", \"label\"))\n",
    "    train_shot = pd.DataFrame(columns = train.columns)\n",
    "    oversample = np.random.choice(train.label.unique(), 2, False)\n",
    "    for label in set(train.label.unique()).difference(oversample):\n",
    "        idx = train.label == label\n",
    "        train_shot = train_shot.append(train[idx].sample(n=2))\n",
    "    for label in oversample:\n",
    "        idx = train.label == label\n",
    "        train_shot = train_shot.append(train[idx].sample(n=3))\n",
    "    train = train.drop(train_shot.index)\n",
    "    train_shot.to_csv(f\"data/train/ukraine/equal/10/{s}/train.csv\", header = False, index = False)\n",
    "    for label in set(train.label.unique()).difference(oversample):\n",
    "        idx = train.label == label\n",
    "        train_add = train[idx].sample(n = 23)\n",
    "        train_shot = train_shot.append(train_add)\n",
    "        train = train.drop(train_add.index)\n",
    "    for label in oversample:\n",
    "        idx = train.label == label\n",
    "        train_add = train[idx].sample(n = 22)\n",
    "        train_shot = train_shot.append(train_add)\n",
    "        train = train.drop(train_add.index)\n",
    "    train_shot.to_csv(f\"data/train/ukraine/equal/100/{s}/train.csv\", header = False, index = False)\n",
    "    for label in set(train.label.unique()).difference(oversample):\n",
    "        idx = train.label == label\n",
    "        train_add = train[idx].sample(n = 38)\n",
    "        train_shot = train_shot.append(train_add)\n",
    "        train = train.drop(train_add.index)\n",
    "    for label in oversample:\n",
    "        idx = train.label == label\n",
    "        train_add = train[idx].sample(n = 37)\n",
    "        train_shot = train_shot.append(train_add)\n",
    "        train = train.drop(train_add.index)\n",
    "    train_shot.to_csv(f\"data/train/ukraine/equal/250/{s}/train.csv\", header = False, index = False)"
   ]
  },
  {
   "cell_type": "markdown",
   "id": "c5832cc1",
   "metadata": {},
   "source": [
    "# Second Setting (\"stratified\")\n",
    "### sample 5 stratified(!) subsamples with n = 10, 100, 250 and inclusion probability equal to true label distribution"
   ]
  },
  {
   "cell_type": "code",
   "execution_count": null,
   "id": "d7fb0c65",
   "metadata": {},
   "outputs": [],
   "source": [
    "train = pd.read_csv(\"data/raw/ukraine/stanced_train.csv\", header=None, names=(\"text\", \"label\"))\n",
    "tab = pd.read_csv(\"data/raw/ukraine/stanced.csv\").gold_label.value_counts()\n",
    "rel = tab/sum(tab)\n",
    "tab10 = round(rel*10)\n",
    "tab90 = round(rel*100)-tab10\n",
    "tab150 = round(rel*250)-tab90-tab10"
   ]
  },
  {
   "cell_type": "code",
   "execution_count": null,
   "id": "093c694e",
   "metadata": {},
   "outputs": [],
   "source": [
    "for s in range(1,6):\n",
    "    os.makedirs(f\"data/train/ukraine/stratified/10/{s}\")\n",
    "    os.makedirs(f\"data/train/ukraine/stratified/100/{s}\")\n",
    "    os.makedirs(f\"data/train/ukraine/stratified/250/{s}\")\n",
    "    train = pd.read_csv(\"data/raw/ukraine/stanced_train.csv\", header=None, names=(\"text\", \"label\"))\n",
    "    train_shot = pd.DataFrame(columns = train.columns)\n",
    "    for label in train.label.unique():\n",
    "        idx = train.label == label\n",
    "        train_shot = train_shot.append(train[idx].sample(n=int(tab10[label])))\n",
    "    train = train.drop(train_shot.index)\n",
    "    train_shot.to_csv(f\"data/train/ukraine/stratified/10/{s}/train.csv\", header = False, index = False)\n",
    "    for label in train.label.unique():\n",
    "        idx = train.label == label\n",
    "        train_add = train[idx].sample(n=int(tab90[label]))\n",
    "        train_shot = train_shot.append(train_add)\n",
    "        train = train.drop(train_add.index)\n",
    "    train_shot.to_csv(f\"data/train/ukraine/stratified/100/{s}/train.csv\", header = False, index = False)\n",
    "    for label in train.label.unique():\n",
    "        idx = train.label == label\n",
    "        train_add = train[idx].sample(n=int(tab150[label]))\n",
    "        train_shot = train_shot.append(train_add)\n",
    "        train = train.drop(train_add.index)\n",
    "    train_shot.to_csv(f\"data/train/ukraine/stratified/250/{s}/train.csv\", header = False, index = False)"
   ]
  },
  {
   "cell_type": "markdown",
   "id": "eb078b53",
   "metadata": {},
   "source": [
    "# Third Setting (\"random\")\n",
    "### sample 5 random subsamples with n = 100, 250 (inclusion probability equal to true label distribution)\n",
    "we leave out n=10 because we want to make sure that at least each label occurs once in the training"
   ]
  },
  {
   "cell_type": "code",
   "execution_count": null,
   "id": "e6fb31da",
   "metadata": {},
   "outputs": [],
   "source": [
    "for s in range(1,6):\n",
    "    os.makedirs(f\"data/train/ukraine/random/100/{s}\")\n",
    "    os.makedirs(f\"data/train/ukraine/random/250/{s}\")\n",
    "    train = pd.read_csv(\"data/raw/ukraine/stanced_train.csv\", header=None, names=(\"text\", \"label\"))\n",
    "    train_shot = pd.DataFrame(columns = train.columns)\n",
    "    train_shot = train_shot.append(train.sample(n=100))\n",
    "    train = train.drop(train_shot.index)\n",
    "    train_shot.to_csv(f\"data/train/ukraine/random/100/{s}/train.csv\", header = False, index = False)\n",
    "    train_shot = train_shot.append(train.sample(n=150))\n",
    "    train_shot.to_csv(f\"data/train/ukraine/random/250/{s}/train.csv\", header = False, index = False)"
   ]
  }
 ],
 "metadata": {
  "kernelspec": {
   "display_name": "Python 3",
   "language": "python",
   "name": "python3"
  },
  "language_info": {
   "codemirror_mode": {
    "name": "ipython",
    "version": 3
   },
   "file_extension": ".py",
   "mimetype": "text/x-python",
   "name": "python",
   "nbconvert_exporter": "python",
   "pygments_lexer": "ipython3",
   "version": "3.8.8"
  }
 },
 "nbformat": 4,
 "nbformat_minor": 5
}
